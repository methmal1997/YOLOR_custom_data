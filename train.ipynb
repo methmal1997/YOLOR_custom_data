{
 "cells": [
  {
   "cell_type": "code",
   "execution_count": 1,
   "id": "15ebf205-7ad4-49db-adb0-ed9399929e47",
   "metadata": {},
   "outputs": [],
   "source": [
    "import torch # YOLOv5 implemented using pytorch"
   ]
  },
  {
   "cell_type": "code",
   "execution_count": 2,
   "id": "f9ad847a-9787-4be9-9b53-74370845c856",
   "metadata": {},
   "outputs": [],
   "source": [
    "from IPython.display import Image #this is to render predictions"
   ]
  },
  {
   "cell_type": "code",
   "execution_count": 4,
   "id": "29810b65-621c-4eff-8d48-1ad29d4fa45d",
   "metadata": {},
   "outputs": [
    {
     "name": "stdout",
     "output_type": "stream",
     "text": [
      "Cloning into 'yolor'...\n",
      "remote: Enumerating objects: 492, done.\u001b[K\n",
      "remote: Total 492 (delta 0), reused 0 (delta 0), pack-reused 492\u001b[K\n",
      "Receiving objects: 100% (492/492), 3.42 MiB | 5.09 MiB/s, done.\n",
      "Resolving deltas: 100% (227/227), done.\n"
     ]
    }
   ],
   "source": [
    "!git clone https://github.com/WongKinYiu/yolor.git"
   ]
  },
  {
   "cell_type": "code",
   "execution_count": 5,
   "id": "1674d67e-0440-4792-af14-917162486b7d",
   "metadata": {},
   "outputs": [
    {
     "name": "stdout",
     "output_type": "stream",
     "text": [
      "/data/shared/methmal/PycharmProjects/YOLOR_custom_data/yolor\n"
     ]
    }
   ],
   "source": [
    "%cd yolor"
   ]
  },
  {
   "cell_type": "code",
   "execution_count": null,
   "id": "15e56495-c3cd-46a8-9f9c-bed39c6687ef",
   "metadata": {},
   "outputs": [],
   "source": []
  }
 ],
 "metadata": {
  "kernelspec": {
   "display_name": "Python 3 (ipykernel)",
   "language": "python",
   "name": "python3"
  },
  "language_info": {
   "codemirror_mode": {
    "name": "ipython",
    "version": 3
   },
   "file_extension": ".py",
   "mimetype": "text/x-python",
   "name": "python",
   "nbconvert_exporter": "python",
   "pygments_lexer": "ipython3",
   "version": "3.9.7"
  }
 },
 "nbformat": 4,
 "nbformat_minor": 5
}
