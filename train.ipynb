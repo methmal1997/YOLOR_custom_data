{
 "cells": [
  {
   "cell_type": "code",
   "execution_count": 1,
   "id": "15ebf205-7ad4-49db-adb0-ed9399929e47",
   "metadata": {},
   "outputs": [],
   "source": [
    "import torch # YOLOv5 implemented using pytorch"
   ]
  },
  {
   "cell_type": "code",
   "execution_count": 2,
   "id": "f9ad847a-9787-4be9-9b53-74370845c856",
   "metadata": {},
   "outputs": [],
   "source": [
    "from IPython.display import Image #this is to render predictions"
   ]
  },
  {
   "cell_type": "code",
   "execution_count": 3,
   "id": "29810b65-621c-4eff-8d48-1ad29d4fa45d",
   "metadata": {},
   "outputs": [],
   "source": [
    "# !git clone https://github.com/WongKinYiu/yolor.git"
   ]
  },
  {
   "cell_type": "code",
   "execution_count": 4,
   "id": "1674d67e-0440-4792-af14-917162486b7d",
   "metadata": {},
   "outputs": [
    {
     "name": "stdout",
     "output_type": "stream",
     "text": [
      "/data/shared/methmal/PycharmProjects/YOLOR_custom_data/yolor_dir\n"
     ]
    }
   ],
   "source": [
    "%cd yolor_dir"
   ]
  },
  {
   "cell_type": "code",
   "execution_count": 7,
   "id": "15e56495-c3cd-46a8-9f9c-bed39c6687ef",
   "metadata": {},
   "outputs": [
    {
     "name": "stdout",
     "output_type": "stream",
     "text": [
      "Requirement already satisfied: Cython in /data/shared/methmal/anaconda3/lib/python3.9/site-packages (from -r requirements.txt (line 4)) (0.29.24)\n",
      "Requirement already satisfied: matplotlib>=3.2.2 in /data/shared/methmal/anaconda3/lib/python3.9/site-packages (from -r requirements.txt (line 5)) (3.4.3)\n",
      "Requirement already satisfied: numpy>=1.18.5 in /data/shared/methmal/anaconda3/lib/python3.9/site-packages (from -r requirements.txt (line 6)) (1.22.4)\n",
      "Requirement already satisfied: opencv-python>=4.1.2 in /data/shared/methmal/anaconda3/lib/python3.9/site-packages (from -r requirements.txt (line 7)) (4.6.0.66)\n",
      "Requirement already satisfied: Pillow in /data/shared/methmal/anaconda3/lib/python3.9/site-packages (from -r requirements.txt (line 8)) (8.4.0)\n",
      "Requirement already satisfied: PyYAML>=5.3.1 in /data/shared/methmal/anaconda3/lib/python3.9/site-packages (from -r requirements.txt (line 9)) (5.4.1)\n",
      "Requirement already satisfied: scipy>=1.4.1 in /data/shared/methmal/anaconda3/lib/python3.9/site-packages (from -r requirements.txt (line 10)) (1.7.1)\n",
      "Requirement already satisfied: tensorboard>=1.5 in /data/shared/methmal/anaconda3/lib/python3.9/site-packages (from -r requirements.txt (line 11)) (2.10.0)\n",
      "Requirement already satisfied: tqdm>=4.41.0 in /data/shared/methmal/anaconda3/lib/python3.9/site-packages (from -r requirements.txt (line 13)) (4.64.0)\n",
      "Requirement already satisfied: seaborn>=0.11.0 in /data/shared/methmal/anaconda3/lib/python3.9/site-packages (from -r requirements.txt (line 19)) (0.11.2)\n",
      "Requirement already satisfied: pandas in /data/shared/methmal/anaconda3/lib/python3.9/site-packages (from -r requirements.txt (line 20)) (1.3.4)\n",
      "Requirement already satisfied: thop in /data/shared/methmal/anaconda3/lib/python3.9/site-packages (from -r requirements.txt (line 28)) (0.1.1.post2207130030)\n",
      "Collecting pycocotools==2.0\n",
      "  Downloading pycocotools-2.0.0.tar.gz (1.5 MB)\n",
      "\u001b[K     |████████████████████████████████| 1.5 MB 2.2 MB/s eta 0:00:01\n",
      "\u001b[?25hRequirement already satisfied: cycler>=0.10 in /data/shared/methmal/anaconda3/lib/python3.9/site-packages (from matplotlib>=3.2.2->-r requirements.txt (line 5)) (0.10.0)\n",
      "Requirement already satisfied: kiwisolver>=1.0.1 in /data/shared/methmal/anaconda3/lib/python3.9/site-packages (from matplotlib>=3.2.2->-r requirements.txt (line 5)) (1.3.1)\n",
      "Requirement already satisfied: python-dateutil>=2.7 in /data/shared/methmal/anaconda3/lib/python3.9/site-packages (from matplotlib>=3.2.2->-r requirements.txt (line 5)) (2.8.2)\n",
      "Requirement already satisfied: pyparsing>=2.2.1 in /data/shared/methmal/anaconda3/lib/python3.9/site-packages (from matplotlib>=3.2.2->-r requirements.txt (line 5)) (3.0.4)\n",
      "Requirement already satisfied: requests<3,>=2.21.0 in /data/shared/methmal/anaconda3/lib/python3.9/site-packages (from tensorboard>=1.5->-r requirements.txt (line 11)) (2.26.0)\n",
      "Requirement already satisfied: setuptools>=41.0.0 in /data/shared/methmal/anaconda3/lib/python3.9/site-packages (from tensorboard>=1.5->-r requirements.txt (line 11)) (58.0.4)\n",
      "Requirement already satisfied: werkzeug>=1.0.1 in /data/shared/methmal/anaconda3/lib/python3.9/site-packages (from tensorboard>=1.5->-r requirements.txt (line 11)) (2.0.2)\n",
      "Requirement already satisfied: absl-py>=0.4 in /data/shared/methmal/anaconda3/lib/python3.9/site-packages (from tensorboard>=1.5->-r requirements.txt (line 11)) (1.2.0)\n",
      "Requirement already satisfied: protobuf<3.20,>=3.9.2 in /data/shared/methmal/anaconda3/lib/python3.9/site-packages (from tensorboard>=1.5->-r requirements.txt (line 11)) (3.19.4)\n",
      "Requirement already satisfied: markdown>=2.6.8 in /data/shared/methmal/anaconda3/lib/python3.9/site-packages (from tensorboard>=1.5->-r requirements.txt (line 11)) (3.4.1)\n",
      "Requirement already satisfied: grpcio>=1.24.3 in /data/shared/methmal/anaconda3/lib/python3.9/site-packages (from tensorboard>=1.5->-r requirements.txt (line 11)) (1.47.0)\n",
      "Requirement already satisfied: google-auth-oauthlib<0.5,>=0.4.1 in /data/shared/methmal/anaconda3/lib/python3.9/site-packages (from tensorboard>=1.5->-r requirements.txt (line 11)) (0.4.6)\n",
      "Requirement already satisfied: tensorboard-data-server<0.7.0,>=0.6.0 in /data/shared/methmal/anaconda3/lib/python3.9/site-packages (from tensorboard>=1.5->-r requirements.txt (line 11)) (0.6.1)\n",
      "Requirement already satisfied: google-auth<3,>=1.6.3 in /data/shared/methmal/anaconda3/lib/python3.9/site-packages (from tensorboard>=1.5->-r requirements.txt (line 11)) (2.11.0)\n",
      "Requirement already satisfied: wheel>=0.26 in /data/shared/methmal/anaconda3/lib/python3.9/site-packages (from tensorboard>=1.5->-r requirements.txt (line 11)) (0.37.0)\n",
      "Requirement already satisfied: tensorboard-plugin-wit>=1.6.0 in /data/shared/methmal/anaconda3/lib/python3.9/site-packages (from tensorboard>=1.5->-r requirements.txt (line 11)) (1.8.1)\n",
      "Requirement already satisfied: pytz>=2017.3 in /data/shared/methmal/anaconda3/lib/python3.9/site-packages (from pandas->-r requirements.txt (line 20)) (2021.3)\n",
      "Requirement already satisfied: torch in /data/shared/methmal/anaconda3/lib/python3.9/site-packages (from thop->-r requirements.txt (line 28)) (1.12.1)\n",
      "Requirement already satisfied: six in /data/shared/methmal/anaconda3/lib/python3.9/site-packages (from cycler>=0.10->matplotlib>=3.2.2->-r requirements.txt (line 5)) (1.16.0)\n",
      "Requirement already satisfied: pyasn1-modules>=0.2.1 in /data/shared/methmal/anaconda3/lib/python3.9/site-packages (from google-auth<3,>=1.6.3->tensorboard>=1.5->-r requirements.txt (line 11)) (0.2.8)\n",
      "Requirement already satisfied: rsa<5,>=3.1.4 in /data/shared/methmal/anaconda3/lib/python3.9/site-packages (from google-auth<3,>=1.6.3->tensorboard>=1.5->-r requirements.txt (line 11)) (4.7.2)\n",
      "Requirement already satisfied: cachetools<6.0,>=2.0.0 in /data/shared/methmal/anaconda3/lib/python3.9/site-packages (from google-auth<3,>=1.6.3->tensorboard>=1.5->-r requirements.txt (line 11)) (5.2.0)\n",
      "Requirement already satisfied: requests-oauthlib>=0.7.0 in /data/shared/methmal/anaconda3/lib/python3.9/site-packages (from google-auth-oauthlib<0.5,>=0.4.1->tensorboard>=1.5->-r requirements.txt (line 11)) (1.3.1)\n",
      "Requirement already satisfied: importlib-metadata>=4.4 in /data/shared/methmal/anaconda3/lib/python3.9/site-packages (from markdown>=2.6.8->tensorboard>=1.5->-r requirements.txt (line 11)) (4.8.1)\n",
      "Requirement already satisfied: zipp>=0.5 in /data/shared/methmal/anaconda3/lib/python3.9/site-packages (from importlib-metadata>=4.4->markdown>=2.6.8->tensorboard>=1.5->-r requirements.txt (line 11)) (3.6.0)\n",
      "Requirement already satisfied: pyasn1<0.5.0,>=0.4.6 in /data/shared/methmal/anaconda3/lib/python3.9/site-packages (from pyasn1-modules>=0.2.1->google-auth<3,>=1.6.3->tensorboard>=1.5->-r requirements.txt (line 11)) (0.4.8)\n",
      "Requirement already satisfied: urllib3<1.27,>=1.21.1 in /data/shared/methmal/anaconda3/lib/python3.9/site-packages (from requests<3,>=2.21.0->tensorboard>=1.5->-r requirements.txt (line 11)) (1.26.7)\n",
      "Requirement already satisfied: certifi>=2017.4.17 in /data/shared/methmal/anaconda3/lib/python3.9/site-packages (from requests<3,>=2.21.0->tensorboard>=1.5->-r requirements.txt (line 11)) (2021.10.8)\n",
      "Requirement already satisfied: idna<4,>=2.5 in /data/shared/methmal/anaconda3/lib/python3.9/site-packages (from requests<3,>=2.21.0->tensorboard>=1.5->-r requirements.txt (line 11)) (3.2)\n",
      "Requirement already satisfied: charset-normalizer~=2.0.0 in /data/shared/methmal/anaconda3/lib/python3.9/site-packages (from requests<3,>=2.21.0->tensorboard>=1.5->-r requirements.txt (line 11)) (2.0.4)\n",
      "Requirement already satisfied: oauthlib>=3.0.0 in /data/shared/methmal/anaconda3/lib/python3.9/site-packages (from requests-oauthlib>=0.7.0->google-auth-oauthlib<0.5,>=0.4.1->tensorboard>=1.5->-r requirements.txt (line 11)) (3.2.0)\n",
      "Requirement already satisfied: typing-extensions in /data/shared/methmal/anaconda3/lib/python3.9/site-packages (from torch->thop->-r requirements.txt (line 28)) (3.10.0.2)\n",
      "Building wheels for collected packages: pycocotools\n",
      "  Building wheel for pycocotools (setup.py) ... \u001b[?25ldone\n",
      "\u001b[?25h  Created wheel for pycocotools: filename=pycocotools-2.0.0-cp39-cp39-linux_x86_64.whl size=95405 sha256=e93c803cb18844e305327f383ebc81e06eca209d5613cdf4977f446f6659efe4\n",
      "  Stored in directory: /data/shared/methmal/.cache/pip/wheels/9f/11/12/2613a31c3175b133ef1de8d4d821726eed4cb9ed882c1a9f57\n",
      "Successfully built pycocotools\n",
      "Installing collected packages: pycocotools\n",
      "  Attempting uninstall: pycocotools\n",
      "    Found existing installation: pycocotools 2.0.4\n",
      "    Uninstalling pycocotools-2.0.4:\n",
      "      Successfully uninstalled pycocotools-2.0.4\n",
      "Successfully installed pycocotools-2.0.0\n"
     ]
    }
   ],
   "source": [
    "!pip install -r requirements.txt"
   ]
  },
  {
   "cell_type": "code",
   "execution_count": 8,
   "id": "6babe8c3-e5ca-4770-8440-7a0a8a31a507",
   "metadata": {},
   "outputs": [
    {
     "name": "stdout",
     "output_type": "stream",
     "text": [
      "All set. Using PyTorch version 1.12.0 with _CudaDeviceProperties(name='GeForce RTX 2060 SUPER', major=7, minor=5, total_memory=7982MB, multi_processor_count=34)\n"
     ]
    }
   ],
   "source": [
    "print('All set. Using PyTorch version %s with %s' % (torch.__version__, torch.cuda.get_device_properties(0) if torch.cuda.is_available() else 'CPU'))"
   ]
  },
  {
   "cell_type": "code",
   "execution_count": null,
   "id": "913a4673-ab2f-4025-996f-faf3e348af8a",
   "metadata": {},
   "outputs": [],
   "source": []
  }
 ],
 "metadata": {
  "kernelspec": {
   "display_name": "Python 3 (ipykernel)",
   "language": "python",
   "name": "python3"
  },
  "language_info": {
   "codemirror_mode": {
    "name": "ipython",
    "version": 3
   },
   "file_extension": ".py",
   "mimetype": "text/x-python",
   "name": "python",
   "nbconvert_exporter": "python",
   "pygments_lexer": "ipython3",
   "version": "3.9.7"
  }
 },
 "nbformat": 4,
 "nbformat_minor": 5
}
